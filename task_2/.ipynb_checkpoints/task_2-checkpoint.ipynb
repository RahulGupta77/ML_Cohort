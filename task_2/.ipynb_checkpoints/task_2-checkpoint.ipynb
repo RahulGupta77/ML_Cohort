{
 "cells": [
  {
   "cell_type": "code",
   "execution_count": 4,
   "id": "5f2fd1d8",
   "metadata": {},
   "outputs": [],
   "source": [
    "import cv2 \n",
    "import os\n",
    "import pandas as pd \n",
    "import matplotlib.pyplot as plt\n",
    "labels = pd.read_csv(\"data_labels.csv\")\n",
    "\n",
    "\n"
   ]
  },
  {
   "cell_type": "code",
   "execution_count": 5,
   "id": "d7641cef",
   "metadata": {},
   "outputs": [],
   "source": [
    "#labels=orig_labels.dropna()  #drops all rows that have none/nan values\n"
   ]
  },
  {
   "cell_type": "code",
   "execution_count": 15,
   "id": "b735f76b",
   "metadata": {},
   "outputs": [],
   "source": [
    "\n",
    "img_name = labels[\"name\"]"
   ]
  },
  {
   "cell_type": "code",
   "execution_count": 16,
   "id": "3ed38465",
   "metadata": {},
   "outputs": [
    {
     "data": {
      "text/html": [
       "<div>\n",
       "<style scoped>\n",
       "    .dataframe tbody tr th:only-of-type {\n",
       "        vertical-align: middle;\n",
       "    }\n",
       "\n",
       "    .dataframe tbody tr th {\n",
       "        vertical-align: top;\n",
       "    }\n",
       "\n",
       "    .dataframe thead th {\n",
       "        text-align: right;\n",
       "    }\n",
       "</style>\n",
       "<table border=\"1\" class=\"dataframe\">\n",
       "  <thead>\n",
       "    <tr style=\"text-align: right;\">\n",
       "      <th></th>\n",
       "      <th>name</th>\n",
       "      <th>label</th>\n",
       "      <th>width</th>\n",
       "      <th>height</th>\n",
       "      <th>xmin</th>\n",
       "      <th>ymin</th>\n",
       "      <th>xmax</th>\n",
       "      <th>ymax</th>\n",
       "    </tr>\n",
       "  </thead>\n",
       "  <tbody>\n",
       "    <tr>\n",
       "      <th>0</th>\n",
       "      <td>NaN</td>\n",
       "      <td>NaN</td>\n",
       "      <td>NaN</td>\n",
       "      <td>NaN</td>\n",
       "      <td>NaN</td>\n",
       "      <td>NaN</td>\n",
       "      <td>NaN</td>\n",
       "      <td>NaN</td>\n",
       "    </tr>\n",
       "    <tr>\n",
       "      <th>1</th>\n",
       "      <td>cats_000.jpg</td>\n",
       "      <td>cat</td>\n",
       "      <td>474.0</td>\n",
       "      <td>632.0</td>\n",
       "      <td>103.0</td>\n",
       "      <td>72.0</td>\n",
       "      <td>436.0</td>\n",
       "      <td>603.0</td>\n",
       "    </tr>\n",
       "    <tr>\n",
       "      <th>2</th>\n",
       "      <td>cats_007.jpg</td>\n",
       "      <td>cat-1</td>\n",
       "      <td>474.0</td>\n",
       "      <td>266.0</td>\n",
       "      <td>301.0</td>\n",
       "      <td>37.0</td>\n",
       "      <td>460.0</td>\n",
       "      <td>265.0</td>\n",
       "    </tr>\n",
       "    <tr>\n",
       "      <th>3</th>\n",
       "      <td>cats_050.jpg</td>\n",
       "      <td>cat</td>\n",
       "      <td>474.0</td>\n",
       "      <td>237.0</td>\n",
       "      <td>157.0</td>\n",
       "      <td>40.0</td>\n",
       "      <td>314.0</td>\n",
       "      <td>205.0</td>\n",
       "    </tr>\n",
       "    <tr>\n",
       "      <th>4</th>\n",
       "      <td>cats_072.jpg</td>\n",
       "      <td>cat-2</td>\n",
       "      <td>474.0</td>\n",
       "      <td>266.0</td>\n",
       "      <td>187.0</td>\n",
       "      <td>1.0</td>\n",
       "      <td>474.0</td>\n",
       "      <td>266.0</td>\n",
       "    </tr>\n",
       "    <tr>\n",
       "      <th>5</th>\n",
       "      <td>cats_076.jpg</td>\n",
       "      <td>cat</td>\n",
       "      <td>474.0</td>\n",
       "      <td>474.0</td>\n",
       "      <td>12.0</td>\n",
       "      <td>6.0</td>\n",
       "      <td>244.0</td>\n",
       "      <td>462.0</td>\n",
       "    </tr>\n",
       "    <tr>\n",
       "      <th>6</th>\n",
       "      <td>cats_079.jpg</td>\n",
       "      <td>cat</td>\n",
       "      <td>474.0</td>\n",
       "      <td>266.0</td>\n",
       "      <td>78.0</td>\n",
       "      <td>1.0</td>\n",
       "      <td>474.0</td>\n",
       "      <td>266.0</td>\n",
       "    </tr>\n",
       "    <tr>\n",
       "      <th>7</th>\n",
       "      <td>cats_088.jpg</td>\n",
       "      <td>cat-3</td>\n",
       "      <td>474.0</td>\n",
       "      <td>266.0</td>\n",
       "      <td>129.0</td>\n",
       "      <td>1.0</td>\n",
       "      <td>385.0</td>\n",
       "      <td>266.0</td>\n",
       "    </tr>\n",
       "    <tr>\n",
       "      <th>8</th>\n",
       "      <td>cats_091.jpg</td>\n",
       "      <td>cat</td>\n",
       "      <td>474.0</td>\n",
       "      <td>316.0</td>\n",
       "      <td>156.0</td>\n",
       "      <td>13.0</td>\n",
       "      <td>328.0</td>\n",
       "      <td>316.0</td>\n",
       "    </tr>\n",
       "    <tr>\n",
       "      <th>9</th>\n",
       "      <td>cats_099.jpg</td>\n",
       "      <td>cat-4</td>\n",
       "      <td>474.0</td>\n",
       "      <td>237.0</td>\n",
       "      <td>226.0</td>\n",
       "      <td>1.0</td>\n",
       "      <td>395.0</td>\n",
       "      <td>237.0</td>\n",
       "    </tr>\n",
       "    <tr>\n",
       "      <th>10</th>\n",
       "      <td>cats_100.jpg</td>\n",
       "      <td>cat</td>\n",
       "      <td>474.0</td>\n",
       "      <td>266.0</td>\n",
       "      <td>40.0</td>\n",
       "      <td>1.0</td>\n",
       "      <td>420.0</td>\n",
       "      <td>266.0</td>\n",
       "    </tr>\n",
       "  </tbody>\n",
       "</table>\n",
       "</div>"
      ],
      "text/plain": [
       "            name  label  width  height   xmin  ymin   xmax   ymax\n",
       "0            NaN    NaN    NaN     NaN    NaN   NaN    NaN    NaN\n",
       "1   cats_000.jpg    cat  474.0   632.0  103.0  72.0  436.0  603.0\n",
       "2   cats_007.jpg  cat-1  474.0   266.0  301.0  37.0  460.0  265.0\n",
       "3   cats_050.jpg    cat  474.0   237.0  157.0  40.0  314.0  205.0\n",
       "4   cats_072.jpg  cat-2  474.0   266.0  187.0   1.0  474.0  266.0\n",
       "5   cats_076.jpg    cat  474.0   474.0   12.0   6.0  244.0  462.0\n",
       "6   cats_079.jpg    cat  474.0   266.0   78.0   1.0  474.0  266.0\n",
       "7   cats_088.jpg  cat-3  474.0   266.0  129.0   1.0  385.0  266.0\n",
       "8   cats_091.jpg    cat  474.0   316.0  156.0  13.0  328.0  316.0\n",
       "9   cats_099.jpg  cat-4  474.0   237.0  226.0   1.0  395.0  237.0\n",
       "10  cats_100.jpg    cat  474.0   266.0   40.0   1.0  420.0  266.0"
      ]
     },
     "execution_count": 16,
     "metadata": {},
     "output_type": "execute_result"
    }
   ],
   "source": [
    "labels"
   ]
  },
  {
   "cell_type": "code",
   "execution_count": 17,
   "id": "e624d587",
   "metadata": {},
   "outputs": [],
   "source": [
    "minx = labels[\"xmin\"].tolist()\n",
    "miny = labels[\"ymin\"].tolist()\n",
    "maxx = labels[\"xmax\"].tolist()\n",
    "maxy = labels[\"ymax\"].tolist()\n",
    "img_name = labels[\"name\"].tolist()"
   ]
  },
  {
   "cell_type": "code",
   "execution_count": 18,
   "id": "777ac04b",
   "metadata": {},
   "outputs": [],
   "source": [
    "new_image = cv2.imread(\"/Volumes/T5/Cuvette_program/Coding/1st_week_task/task_2/cat/cats_050.jpg\")"
   ]
  },
  {
   "cell_type": "code",
   "execution_count": 19,
   "id": "3bcce10e",
   "metadata": {},
   "outputs": [
    {
     "data": {
      "text/plain": [
       "314.0"
      ]
     },
     "execution_count": 19,
     "metadata": {},
     "output_type": "execute_result"
    }
   ],
   "source": [
    "maxx[3]"
   ]
  },
  {
   "cell_type": "code",
   "execution_count": 20,
   "id": "1b8fea5b",
   "metadata": {},
   "outputs": [],
   "source": [
    "import glob\n",
    "image = []\n",
    "img_path =[]\n",
    "for img in glob.glob(\"cat/*.jpg\"):\n",
    "    n= cv2.imread(img)\n",
    "    img_path.append(img)\n",
    "    image.append(n)"
   ]
  },
  {
   "cell_type": "code",
   "execution_count": 21,
   "id": "d6c9dc65",
   "metadata": {},
   "outputs": [],
   "source": [
    "bb_img = cv2.rectangle(new_image, (int(minx[3]),int(miny[3])), (int(maxx[3]),int(maxy[3])), color = (0,255,0), thickness =2)\n",
    "#txt_img = cv2.putText(bb_img, \"cat_pic\",(100, 70), cv2.FONT_HERSHEY_SIMPLEX, 1, (0,255,255))"
   ]
  },
  {
   "cell_type": "code",
   "execution_count": null,
   "id": "c50aa142",
   "metadata": {},
   "outputs": [],
   "source": []
  },
  {
   "cell_type": "code",
   "execution_count": 22,
   "id": "93ca5559",
   "metadata": {},
   "outputs": [],
   "source": [
    "cv2.imshow(\"new_imgjasbdj\", bb_img)\n",
    "cv2.waitKey(0)\n",
    "cv2.destroyAllWindows()"
   ]
  },
  {
   "cell_type": "code",
   "execution_count": null,
   "id": "eded8a4e",
   "metadata": {},
   "outputs": [],
   "source": []
  }
 ],
 "metadata": {
  "kernelspec": {
   "display_name": "Python 3 (ipykernel)",
   "language": "python",
   "name": "python3"
  },
  "language_info": {
   "codemirror_mode": {
    "name": "ipython",
    "version": 3
   },
   "file_extension": ".py",
   "mimetype": "text/x-python",
   "name": "python",
   "nbconvert_exporter": "python",
   "pygments_lexer": "ipython3",
   "version": "3.9.7"
  }
 },
 "nbformat": 4,
 "nbformat_minor": 5
}
