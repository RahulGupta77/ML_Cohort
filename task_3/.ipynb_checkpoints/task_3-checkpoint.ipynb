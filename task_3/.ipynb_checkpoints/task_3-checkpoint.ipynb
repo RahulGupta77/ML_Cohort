{
 "cells": [
  {
   "cell_type": "code",
   "execution_count": 32,
   "id": "3fb421c0",
   "metadata": {},
   "outputs": [],
   "source": [
    "import numpy as np\n",
    "import cv2 \n",
    "import os \n",
    "import time \n",
    "import random\n",
    "import matplotlib.pyplot as plt \n",
    "import pandas as pd \n",
    "from keras.models import Sequential\n",
    "from keras.layers import Conv2D, MaxPooling2D, Flatten, Dense\n",
    "from tensorflow.keras.callbacks import TensorBoard"
   ]
  },
  {
   "cell_type": "code",
   "execution_count": 33,
   "id": "abf59e12",
   "metadata": {},
   "outputs": [],
   "source": [
    "files = os.listdir(\"/Volumes/T5/Cuvette_program/Coding/1st_week_task/task_3/train_dataset/train_data\")\n",
    "train_labels = pd.read_csv(\"/Volumes/T5/Cuvette_program/Coding/1st_week_task/task_3/train_dataset/train_labels.csv\")\n",
    "\n",
    "#find why this below two line is not working\n",
    "# files = os.listdir(os.path.join(os.getcwd(),\"train_data/train_data\"))\n",
    "# train_labels = pd.read_csv(os.path.join(os.getcwd(),\"train_data/train_labels.csv\"))\n",
    "img_id = train_labels[\"id\"].tolist()\n",
    "\n",
    "labels = train_labels[\"label\"].tolist()\n",
    "name = f'cat-vs-dog-prediction-{int(time.time())}'\n",
    "\n",
    "# tensorboard = TensorBoard(log_dir=f'logs/\\\\{name}\\\\')"
   ]
  },
  {
   "cell_type": "code",
   "execution_count": 34,
   "id": "90c88610",
   "metadata": {},
   "outputs": [],
   "source": [
    "images = []\n",
    "img_size = 200\n",
    "for img in img_id:\n",
    "        image = cv2.imread(os.path.join(os.getcwd(),f\"train_dataset/train_data/{img}.png\"))\n",
    "        images.append(image)\n"
   ]
  },
  {
   "cell_type": "code",
   "execution_count": 35,
   "id": "a21c044c",
   "metadata": {},
   "outputs": [],
   "source": [
    "#now turning labels into binary code, 0 = cat, 1 = dog\n",
    "categories = [\"cat\",\"dog\"]\n",
    "label_code = []\n",
    "for category in labels :\n",
    "    if category == \"cat\":\n",
    "        label = categories.index(category)\n",
    "        label_code.append(label)\n",
    "    elif category == \"dog\":\n",
    "        label = categories.index(category)\n",
    "        label_code.append(label)\n"
   ]
  },
  {
   "cell_type": "code",
   "execution_count": 36,
   "id": "dc286af8",
   "metadata": {},
   "outputs": [],
   "source": [
    "# now storing labels with corresponding image \n",
    "\n",
    "data = []\n",
    "\n",
    "for i in range(len(label_code)):\n",
    "    data.append([images[i], label_code[i]])\n",
    "\n",
    "random.shuffle(data) #shuffling the data\n"
   ]
  },
  {
   "cell_type": "code",
   "execution_count": 37,
   "id": "7cb411b4",
   "metadata": {},
   "outputs": [],
   "source": [
    "X = []  #list for features \n",
    "y = []  #list for labels \n",
    "\n",
    "for features, labels in data :\n",
    "    X.append(features)\n",
    "    y.append(labels)\n",
    "    \n",
    "X= np.array(X)\n",
    "y= np.array(y)"
   ]
  },
  {
   "cell_type": "code",
   "execution_count": 38,
   "id": "ab5afc08",
   "metadata": {},
   "outputs": [],
   "source": [
    "X = X/255  #feature scaling meaning converting pixels from 0-255 to 0-1"
   ]
  },
  {
   "cell_type": "code",
   "execution_count": 53,
   "id": "95a80c23",
   "metadata": {},
   "outputs": [],
   "source": [
    "import tensorflow as tf\n",
    "from tensorflow import keras\n",
    "from keras.layers import Dropout"
   ]
  },
  {
   "cell_type": "code",
   "execution_count": 54,
   "id": "672a3b15",
   "metadata": {},
   "outputs": [],
   "source": [
    "model = Sequential() #creating an for sequential class\n",
    "\n",
    "#adding 1st convolution and maxpooling layer \n",
    "model.add(Conv2D(64, (3,3), activation = 'relu')) \n",
    "model.add(MaxPooling2D((2,2)))  \n",
    "\n",
    "#adding 2nd convolution and maxpooling layer \n",
    "model.add(Conv2D(64, (3,3), activation = 'relu')) \n",
    "model.add(MaxPooling2D((2,2))) \n",
    "\n",
    "#adding 3rd convolution and maxpooling layer \n",
    "model.add(Conv2D(64, (3,3), activation = 'relu')) \n",
    "model.add(MaxPooling2D((2,2)))\n",
    "\n",
    "\n",
    "#flattening the layers\n",
    "model.add(Flatten())\n",
    "\n",
    "model.add(Dropout(0.2, input_shape=(60,)))\n",
    "#Now passing it into first hidden layer of neural network\n",
    "model.add(Dense(128,input_shape = X.shape[1:], activation = 'relu'))\n",
    "kernel_regularizer=keras.regularizers.l1()\n",
    "\n",
    "\n",
    "#now adding output layer\n",
    "model.add(Dense(2, activation = \"softmax\")) #using softmax activation function to predict the probability of cats and dogs\n",
    "\n"
   ]
  },
  {
   "cell_type": "code",
   "execution_count": 55,
   "id": "fec83f15",
   "metadata": {},
   "outputs": [],
   "source": [
    "model.compile(optimizer = 'adam', loss = 'sparse_categorical_crossentropy', metrics = ['accuracy'])"
   ]
  },
  {
   "cell_type": "code",
   "execution_count": 56,
   "id": "a9646e03",
   "metadata": {},
   "outputs": [
    {
     "name": "stdout",
     "output_type": "stream",
     "text": [
      "Epoch 1/25\n",
      "225/225 [==============================] - 15s 64ms/step - loss: 0.6872 - accuracy: 0.5406 - val_loss: 0.6567 - val_accuracy: 0.6263\n",
      "Epoch 2/25\n",
      "225/225 [==============================] - 17s 75ms/step - loss: 0.6378 - accuracy: 0.6415 - val_loss: 0.6397 - val_accuracy: 0.6350\n",
      "Epoch 3/25\n",
      "225/225 [==============================] - 22s 98ms/step - loss: 0.5917 - accuracy: 0.6837 - val_loss: 0.5900 - val_accuracy: 0.6800\n",
      "Epoch 4/25\n",
      "225/225 [==============================] - 19s 84ms/step - loss: 0.5491 - accuracy: 0.7260 - val_loss: 0.5447 - val_accuracy: 0.7088\n",
      "Epoch 5/25\n",
      "225/225 [==============================] - 19s 85ms/step - loss: 0.5120 - accuracy: 0.7397 - val_loss: 0.5163 - val_accuracy: 0.7450\n",
      "Epoch 6/25\n",
      "225/225 [==============================] - 18s 79ms/step - loss: 0.4855 - accuracy: 0.7617 - val_loss: 0.5176 - val_accuracy: 0.7450\n",
      "Epoch 7/25\n",
      "225/225 [==============================] - 19s 84ms/step - loss: 0.4579 - accuracy: 0.7853 - val_loss: 0.5234 - val_accuracy: 0.7275\n",
      "Epoch 8/25\n",
      "225/225 [==============================] - 17s 76ms/step - loss: 0.4255 - accuracy: 0.8004 - val_loss: 0.5071 - val_accuracy: 0.7575\n",
      "Epoch 9/25\n",
      "225/225 [==============================] - 19s 85ms/step - loss: 0.4047 - accuracy: 0.8096 - val_loss: 0.5031 - val_accuracy: 0.7625\n",
      "Epoch 10/25\n",
      "225/225 [==============================] - 23s 102ms/step - loss: 0.3726 - accuracy: 0.8288 - val_loss: 0.4904 - val_accuracy: 0.7688\n",
      "Epoch 11/25\n",
      "225/225 [==============================] - 23s 102ms/step - loss: 0.3480 - accuracy: 0.8419 - val_loss: 0.5075 - val_accuracy: 0.7613\n",
      "Epoch 12/25\n",
      "225/225 [==============================] - 19s 83ms/step - loss: 0.3223 - accuracy: 0.8587 - val_loss: 0.4885 - val_accuracy: 0.7650\n",
      "Epoch 13/25\n",
      "225/225 [==============================] - 22s 100ms/step - loss: 0.2962 - accuracy: 0.8703 - val_loss: 0.5352 - val_accuracy: 0.7487\n",
      "Epoch 14/25\n",
      "225/225 [==============================] - 18s 80ms/step - loss: 0.2652 - accuracy: 0.8853 - val_loss: 0.5603 - val_accuracy: 0.7638\n",
      "Epoch 15/25\n",
      "225/225 [==============================] - 18s 79ms/step - loss: 0.2489 - accuracy: 0.8950 - val_loss: 0.5887 - val_accuracy: 0.7700\n",
      "Epoch 16/25\n",
      "225/225 [==============================] - 17s 77ms/step - loss: 0.2314 - accuracy: 0.9029 - val_loss: 0.6091 - val_accuracy: 0.7462\n",
      "Epoch 17/25\n",
      "225/225 [==============================] - 16s 72ms/step - loss: 0.1956 - accuracy: 0.9235 - val_loss: 0.6314 - val_accuracy: 0.7550\n",
      "Epoch 18/25\n",
      "225/225 [==============================] - 16s 73ms/step - loss: 0.1954 - accuracy: 0.9176 - val_loss: 0.6352 - val_accuracy: 0.7450\n",
      "Epoch 19/25\n",
      "225/225 [==============================] - 17s 74ms/step - loss: 0.1555 - accuracy: 0.9376 - val_loss: 0.6818 - val_accuracy: 0.7563\n",
      "Epoch 20/25\n",
      "225/225 [==============================] - 17s 77ms/step - loss: 0.1719 - accuracy: 0.9294 - val_loss: 0.7531 - val_accuracy: 0.7775\n",
      "Epoch 21/25\n",
      "225/225 [==============================] - 18s 80ms/step - loss: 0.1300 - accuracy: 0.9489 - val_loss: 0.7879 - val_accuracy: 0.7588\n",
      "Epoch 22/25\n",
      "225/225 [==============================] - 17s 76ms/step - loss: 0.1380 - accuracy: 0.9463 - val_loss: 0.8216 - val_accuracy: 0.7450\n",
      "Epoch 23/25\n",
      "225/225 [==============================] - 16s 71ms/step - loss: 0.1245 - accuracy: 0.9513 - val_loss: 0.7917 - val_accuracy: 0.7588\n",
      "Epoch 24/25\n",
      "225/225 [==============================] - 17s 75ms/step - loss: 0.1220 - accuracy: 0.9515 - val_loss: 0.8060 - val_accuracy: 0.7600\n",
      "Epoch 25/25\n",
      "225/225 [==============================] - 17s 77ms/step - loss: 0.1158 - accuracy: 0.9556 - val_loss: 0.8756 - val_accuracy: 0.7538\n"
     ]
    },
    {
     "data": {
      "text/plain": [
       "<keras.callbacks.History at 0x7fa7d2021390>"
      ]
     },
     "execution_count": 56,
     "metadata": {},
     "output_type": "execute_result"
    }
   ],
   "source": [
    "model.fit(X,y, epochs = 25, validation_split = 0.1, batch_size = 32)"
   ]
  },
  {
   "cell_type": "markdown",
   "id": "52efb8cb",
   "metadata": {},
   "source": [
    "#### Here the model is overfitting when it is runned with more number of epochs"
   ]
  },
  {
   "cell_type": "code",
   "execution_count": 58,
   "id": "d91a92e8",
   "metadata": {},
   "outputs": [
    {
     "name": "stdout",
     "output_type": "stream",
     "text": [
      "Model: \"sequential_7\"\n",
      "_________________________________________________________________\n",
      " Layer (type)                Output Shape              Param #   \n",
      "=================================================================\n",
      " conv2d_21 (Conv2D)          (32, 30, 30, 64)          1792      \n",
      "                                                                 \n",
      " max_pooling2d_21 (MaxPoolin  (32, 15, 15, 64)         0         \n",
      " g2D)                                                            \n",
      "                                                                 \n",
      " conv2d_22 (Conv2D)          (32, 13, 13, 64)          36928     \n",
      "                                                                 \n",
      " max_pooling2d_22 (MaxPoolin  (32, 6, 6, 64)           0         \n",
      " g2D)                                                            \n",
      "                                                                 \n",
      " conv2d_23 (Conv2D)          (32, 4, 4, 64)            36928     \n",
      "                                                                 \n",
      " max_pooling2d_23 (MaxPoolin  (32, 2, 2, 64)           0         \n",
      " g2D)                                                            \n",
      "                                                                 \n",
      " flatten_7 (Flatten)         (32, 256)                 0         \n",
      "                                                                 \n",
      " dropout (Dropout)           (32, 256)                 0         \n",
      "                                                                 \n",
      " dense_10 (Dense)            (32, 128)                 32896     \n",
      "                                                                 \n",
      " dense_11 (Dense)            (32, 2)                   258       \n",
      "                                                                 \n",
      "=================================================================\n",
      "Total params: 108,802\n",
      "Trainable params: 108,802\n",
      "Non-trainable params: 0\n",
      "_________________________________________________________________\n"
     ]
    }
   ],
   "source": [
    " model.summary()"
   ]
  },
  {
   "cell_type": "markdown",
   "id": "f4f79530",
   "metadata": {},
   "source": [
    "### Testing model with test dataset"
   ]
  },
  {
   "cell_type": "code",
   "execution_count": 74,
   "id": "5a5e7001",
   "metadata": {},
   "outputs": [],
   "source": [
    "#Loading test images and labels\n",
    "\n",
    "test_files = os.listdir(\"/Volumes/T5/Cuvette_program/Coding/1st_week_task/task_3/test_dataset/test_data\")\n",
    "test_labels = pd.read_csv(\"/Volumes/T5/Cuvette_program/Coding/1st_week_task/task_3/test_dataset/test_labels.csv\")\n",
    "\n",
    "test_img_id = test_labels[\"id\"].tolist()\n",
    "\n",
    "test_labels = test_labels[\"label\"].tolist()\n",
    "\n",
    "test_images = []\n",
    "test_img_size = 200\n",
    "for img in test_img_id:\n",
    "        image = cv2.imread(os.path.join(os.getcwd(),f\"test_dataset/test_data/{img}.png\"))\n",
    "        test_images.append(image)\n",
    "        \n",
    "categories = [\"cat\",\"dog\"]\n",
    "test_label_code = []\n",
    "for category in test_labels :\n",
    "    if category == \"cat\":\n",
    "        label = categories.index(category)\n",
    "        test_label_code.append(label)\n",
    "    elif category == \"dog\":\n",
    "        label = categories.index(category)\n",
    "        test_label_code.append(label)\n",
    "        \n",
    "\n",
    "test_data = []\n",
    "\n",
    "for i in range(len(test_label_code)):\n",
    "    test_data.append([test_images[i], test_label_code[i]])\n",
    "\n",
    "random.shuffle(test_data) #shuffling the data\n",
    "\n",
    "test_X = []  #list for features \n",
    "test_y = []  #list for labels \n",
    "\n",
    "for features, labels in test_data :\n",
    "    test_X.append(features)\n",
    "    test_y.append(labels)\n",
    "    \n",
    "test_X= np.asarray(test_X)\n",
    "test_y= np.asarray(test_y)\n",
    "\n",
    "test_X = test_X/255\n"
   ]
  },
  {
   "cell_type": "code",
   "execution_count": 80,
   "id": "38dca0a4",
   "metadata": {},
   "outputs": [
    {
     "name": "stdout",
     "output_type": "stream",
     "text": [
      "63/63 [==============================] - 1s 14ms/step - loss: 0.9368 - accuracy: 0.7395\n"
     ]
    },
    {
     "data": {
      "text/plain": [
       "[0.9368038177490234, 0.7394999861717224]"
      ]
     },
     "execution_count": 80,
     "metadata": {},
     "output_type": "execute_result"
    }
   ],
   "source": [
    "model.evaluate(test_X, test_y)"
   ]
  },
  {
   "cell_type": "markdown",
   "id": "fc369ea7",
   "metadata": {},
   "source": [
    "### So the result of this model on given test dataset is 73.94%"
   ]
  }
 ],
 "metadata": {
  "kernelspec": {
   "display_name": "Python 3 (ipykernel)",
   "language": "python",
   "name": "python3"
  },
  "language_info": {
   "codemirror_mode": {
    "name": "ipython",
    "version": 3
   },
   "file_extension": ".py",
   "mimetype": "text/x-python",
   "name": "python",
   "nbconvert_exporter": "python",
   "pygments_lexer": "ipython3",
   "version": "3.7.11"
  }
 },
 "nbformat": 4,
 "nbformat_minor": 5
}
