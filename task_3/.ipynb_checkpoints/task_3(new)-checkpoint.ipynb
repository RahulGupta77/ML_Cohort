{
 "cells": [
  {
   "cell_type": "code",
   "execution_count": 139,
   "id": "3fb421c0",
   "metadata": {},
   "outputs": [],
   "source": [
    "import numpy as np\n",
    "import cv2 \n",
    "import os \n",
    "import time \n",
    "import random\n",
    "import matplotlib.pyplot as plt \n",
    "import pandas as pd \n",
    "from keras.models import Sequential\n",
    "from keras.layers import Conv2D, MaxPooling2D, Flatten, Dense\n",
    "from tensorflow.keras.callbacks import TensorBoard"
   ]
  },
  {
   "cell_type": "code",
   "execution_count": 140,
   "id": "abf59e12",
   "metadata": {},
   "outputs": [],
   "source": [
    "files = os.listdir(os.path.join(os.getcwd(),\"train_data\"))\n",
    "train_labels = pd.read_csv(os.path.join(os.getcwd(),\"train_labels.csv\"))\n",
    "img_id = train_labels[\"id\"].tolist()\n",
    "labels = train_labels[\"label\"].tolist()\n",
    "name = f'cat-vs-dog-prediction-{int(time.time())}'\n",
    "\n",
    "tensorboard = TensorBoard(log_dir=f'logs/\\\\{name}\\\\')"
   ]
  },
  {
   "cell_type": "code",
   "execution_count": 141,
   "id": "90c88610",
   "metadata": {},
   "outputs": [],
   "source": [
    "images = []\n",
    "img_size = 200\n",
    "for img in img_id:\n",
    "        image = cv2.imread(os.path.join(os.getcwd(),f\"train_data/{img}.png\"))\n",
    "        images.append(image)"
   ]
  },
  {
   "cell_type": "code",
   "execution_count": 142,
   "id": "a21c044c",
   "metadata": {},
   "outputs": [],
   "source": [
    "#now turning labels into binary code, 0 = cat, 1 = dog\n",
    "categories = [\"cat\",\"dog\"]\n",
    "label_code = []\n",
    "for category in labels :\n",
    "    if category == \"cat\":\n",
    "        label = categories.index(category)\n",
    "        label_code.append(label)\n",
    "    elif category == \"dog\":\n",
    "        label = categories.index(category)\n",
    "        label_code.append(label)\n"
   ]
  },
  {
   "cell_type": "code",
   "execution_count": 143,
   "id": "dc286af8",
   "metadata": {},
   "outputs": [],
   "source": [
    "# now storing labels with corresponding image \n",
    "\n",
    "data = []\n",
    "\n",
    "for i in range(len(label_code)):\n",
    "    data.append([images[i], label_code[i]])\n",
    "\n",
    "random.shuffle(data) #shuffling the data\n"
   ]
  },
  {
   "cell_type": "code",
   "execution_count": 144,
   "id": "7cb411b4",
   "metadata": {},
   "outputs": [],
   "source": [
    "X = []  #list for features \n",
    "y = []  #list for labels \n",
    "\n",
    "for features, labels in data :\n",
    "    X.append(features)\n",
    "    y.append(labels)\n",
    "    \n",
    "X= np.array(X)\n",
    "y= np.array(y)"
   ]
  },
  {
   "cell_type": "code",
   "execution_count": 145,
   "id": "ab5afc08",
   "metadata": {},
   "outputs": [],
   "source": [
    "X = X/255  #feature scaling meaning converting pixels from 0-255 to 0-1"
   ]
  },
  {
   "cell_type": "code",
   "execution_count": 146,
   "id": "672a3b15",
   "metadata": {},
   "outputs": [],
   "source": [
    "model = Sequential() #creating an for sequential class\n",
    "\n",
    "#adding 1st convolution and maxpooling layer \n",
    "model.add(Conv2D(64, (3,3), activation = 'relu')) \n",
    "model.add(MaxPooling2D((2,2)))  \n",
    "\n",
    "#adding 2nd convolution and maxpooling layer \n",
    "model.add(Conv2D(64, (3,3), activation = 'relu')) \n",
    "model.add(MaxPooling2D((2,2))) \n",
    "\n",
    "#adding 3rd convolution and maxpooling layer \n",
    "model.add(Conv2D(64, (3,3), activation = 'relu')) \n",
    "model.add(MaxPooling2D((2,2)))\n",
    "\n",
    "\n",
    "#flattening the layers\n",
    "model.add(Flatten())\n",
    "\n",
    "\n",
    "#Now passing it into first hidden layer of neural network\n",
    "model.add(Dense(128,input_shape = X.shape[1:], activation = 'relu'))\n",
    "\n",
    "\n",
    "#now adding output layer\n",
    "model.add(Dense(2, activation = \"softmax\")) #using softmax activation function to predict the probability of cats and dogs\n",
    "\n"
   ]
  },
  {
   "cell_type": "code",
   "execution_count": 147,
   "id": "fec83f15",
   "metadata": {},
   "outputs": [],
   "source": [
    "model.compile(optimizer = 'adam', loss = 'sparse_categorical_crossentropy', metrics = ['accuracy'])"
   ]
  },
  {
   "cell_type": "code",
   "execution_count": 148,
   "id": "a9646e03",
   "metadata": {},
   "outputs": [
    {
     "name": "stdout",
     "output_type": "stream",
     "text": [
      "Epoch 1/5\n",
      "225/225 [==============================] - 11s 46ms/step - loss: 0.6735 - accuracy: 0.5757 - val_loss: 0.6280 - val_accuracy: 0.6425\n",
      "Epoch 2/5\n",
      "225/225 [==============================] - 11s 47ms/step - loss: 0.6193 - accuracy: 0.6562 - val_loss: 0.5901 - val_accuracy: 0.6737\n",
      "Epoch 3/5\n",
      "225/225 [==============================] - 11s 50ms/step - loss: 0.5702 - accuracy: 0.7053 - val_loss: 0.5444 - val_accuracy: 0.7237\n",
      "Epoch 4/5\n",
      "225/225 [==============================] - 11s 49ms/step - loss: 0.5254 - accuracy: 0.7358 - val_loss: 0.5219 - val_accuracy: 0.7350\n",
      "Epoch 5/5\n",
      "225/225 [==============================] - 12s 51ms/step - loss: 0.4879 - accuracy: 0.7638 - val_loss: 0.5314 - val_accuracy: 0.7325\n"
     ]
    },
    {
     "data": {
      "text/plain": [
       "<keras.callbacks.History at 0x7fbb86afcc40>"
      ]
     },
     "execution_count": 148,
     "metadata": {},
     "output_type": "execute_result"
    }
   ],
   "source": [
    "model.fit(X,y, epochs = 5, validation_split = 0.1, batch_size = 32, callbacks = [tensorboard])"
   ]
  },
  {
   "cell_type": "code",
   "execution_count": 149,
   "id": "d91a92e8",
   "metadata": {},
   "outputs": [
    {
     "name": "stdout",
     "output_type": "stream",
     "text": [
      "Model: \"sequential_6\"\n",
      "_________________________________________________________________\n",
      " Layer (type)                Output Shape              Param #   \n",
      "=================================================================\n",
      " conv2d_17 (Conv2D)          (32, 30, 30, 64)          1792      \n",
      "                                                                 \n",
      " max_pooling2d_17 (MaxPoolin  (32, 15, 15, 64)         0         \n",
      " g2D)                                                            \n",
      "                                                                 \n",
      " conv2d_18 (Conv2D)          (32, 13, 13, 64)          36928     \n",
      "                                                                 \n",
      " max_pooling2d_18 (MaxPoolin  (32, 6, 6, 64)           0         \n",
      " g2D)                                                            \n",
      "                                                                 \n",
      " conv2d_19 (Conv2D)          (32, 4, 4, 64)            36928     \n",
      "                                                                 \n",
      " max_pooling2d_19 (MaxPoolin  (32, 2, 2, 64)           0         \n",
      " g2D)                                                            \n",
      "                                                                 \n",
      " flatten_6 (Flatten)         (32, 256)                 0         \n",
      "                                                                 \n",
      " dense_16 (Dense)            (32, 128)                 32896     \n",
      "                                                                 \n",
      " dense_17 (Dense)            (32, 2)                   258       \n",
      "                                                                 \n",
      "=================================================================\n",
      "Total params: 108,802\n",
      "Trainable params: 108,802\n",
      "Non-trainable params: 0\n",
      "_________________________________________________________________\n"
     ]
    }
   ],
   "source": [
    "model.summary()"
   ]
  },
  {
   "cell_type": "code",
   "execution_count": null,
   "id": "f5a8883b",
   "metadata": {},
   "outputs": [],
   "source": []
  }
 ],
 "metadata": {
  "kernelspec": {
   "display_name": "Python 3 (ipykernel)",
   "language": "python",
   "name": "python3"
  },
  "language_info": {
   "codemirror_mode": {
    "name": "ipython",
    "version": 3
   },
   "file_extension": ".py",
   "mimetype": "text/x-python",
   "name": "python",
   "nbconvert_exporter": "python",
   "pygments_lexer": "ipython3",
   "version": "3.9.7"
  }
 },
 "nbformat": 4,
 "nbformat_minor": 5
}
